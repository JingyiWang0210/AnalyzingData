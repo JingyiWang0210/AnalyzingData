{
 "cells": [
  {
   "cell_type": "markdown",
   "metadata": {
    "id": "rbgjVp6BXGCT"
   },
   "source": [
    "\n",
    "# **Assignment 1**\n",
    "\n",
    "\n",
    "## Task 1. Correlation\n",
    "We will use the data example from the textbook \"Statistical Analysis with The General Linear Model\" by Miller and Haden (2013), Chapter 11.\n",
    "\n",
    "As in Miller and Haden, we have five columns:\n",
    "\n",
    "-Participant (Participant),\n",
    "\n",
    "-Reading Ability (Abil),\n",
    "\n",
    "-Intelligence (IQ),\n",
    "\n",
    "-Number of minutes spent reading at home per week (Home),\n",
    "\n",
    "-Number of minutes spent watching TV per week (TV).\n",
    "\n",
    "\n",
    "For the task we will focus on the relationship between Reading Ability and IQ, but for further practice you can look at other relationships on your own."
   ]
  },
  {
   "cell_type": "markdown",
   "metadata": {
    "id": "Z4cXzKORYFaD"
   },
   "source": [
    "**Question 1**:\n",
    "\n",
    "a. Check whether the data is interval, ratio, or ordinal.\n",
    "\n",
    "b. Check whether there is a data point for each participant on both variables.\n",
    "\n",
    "c. Check whether the data is normally distributed in both variables.\n",
    "\n",
    "d. Create a scatter plot with Reading Ability being the x-axis and IQ, being the y-axis.\n",
    "\n",
    "e. Draw a correlation line on the scatter plot.\n",
    "\n",
    "\n",
    "**Instructions:**\n",
    "\n",
    "1. Load the necessary libraries and explain why you need them (\"#used for ...\").\n",
    "\n",
    "2. Read the MillerHadenData.csv file into a DataFrame and name it \"df_mh\"."
   ]
  },
  {
   "cell_type": "code",
   "execution_count": 185,
   "metadata": {
    "id": "140M8Z4qYn_G"
   },
   "outputs": [],
   "source": [
    "import pandas as pd # used for data wrangling\n",
    "import seaborn as sns # used for visualization\n",
    "import matplotlib  # used for plotting\n",
    "from matplotlib import pyplot as plt # used for providing a MATLAB-like plotting framework\n",
    "import pylab # used for math and array manipulation and data visualization\n",
    "import pingouin as pg # used for statistical analysis\n",
    "\n",
    "#Read data with pandas\n",
    "df_mh = pd.read_csv(r'C:\\Users\\ASUS\\Desktop\\A1_analysing_data\\data for A1\\MillerHadenData.csv')"
   ]
  },
  {
   "cell_type": "code",
   "execution_count": 186,
   "metadata": {
    "id": "rwqidw5q2D1n"
   },
   "outputs": [
    {
     "data": {
      "text/html": [
       "<div>\n",
       "<style scoped>\n",
       "    .dataframe tbody tr th:only-of-type {\n",
       "        vertical-align: middle;\n",
       "    }\n",
       "\n",
       "    .dataframe tbody tr th {\n",
       "        vertical-align: top;\n",
       "    }\n",
       "\n",
       "    .dataframe thead th {\n",
       "        text-align: right;\n",
       "    }\n",
       "</style>\n",
       "<table border=\"1\" class=\"dataframe\">\n",
       "  <thead>\n",
       "    <tr style=\"text-align: right;\">\n",
       "      <th></th>\n",
       "      <th>Participant</th>\n",
       "      <th>Abil</th>\n",
       "      <th>IQ</th>\n",
       "      <th>Home</th>\n",
       "      <th>TV</th>\n",
       "    </tr>\n",
       "  </thead>\n",
       "  <tbody>\n",
       "    <tr>\n",
       "      <th>0</th>\n",
       "      <td>1</td>\n",
       "      <td>61</td>\n",
       "      <td>107</td>\n",
       "      <td>144</td>\n",
       "      <td>487</td>\n",
       "    </tr>\n",
       "    <tr>\n",
       "      <th>1</th>\n",
       "      <td>2</td>\n",
       "      <td>56</td>\n",
       "      <td>109</td>\n",
       "      <td>123</td>\n",
       "      <td>608</td>\n",
       "    </tr>\n",
       "    <tr>\n",
       "      <th>2</th>\n",
       "      <td>3</td>\n",
       "      <td>45</td>\n",
       "      <td>81</td>\n",
       "      <td>108</td>\n",
       "      <td>640</td>\n",
       "    </tr>\n",
       "    <tr>\n",
       "      <th>3</th>\n",
       "      <td>4</td>\n",
       "      <td>66</td>\n",
       "      <td>100</td>\n",
       "      <td>155</td>\n",
       "      <td>493</td>\n",
       "    </tr>\n",
       "    <tr>\n",
       "      <th>4</th>\n",
       "      <td>5</td>\n",
       "      <td>49</td>\n",
       "      <td>92</td>\n",
       "      <td>103</td>\n",
       "      <td>636</td>\n",
       "    </tr>\n",
       "  </tbody>\n",
       "</table>\n",
       "</div>"
      ],
      "text/plain": [
       "   Participant  Abil   IQ  Home   TV\n",
       "0            1    61  107   144  487\n",
       "1            2    56  109   123  608\n",
       "2            3    45   81   108  640\n",
       "3            4    66  100   155  493\n",
       "4            5    49   92   103  636"
      ]
     },
     "execution_count": 186,
     "metadata": {},
     "output_type": "execute_result"
    }
   ],
   "source": [
    "# Q1a (code):\n",
    "# Display first few rows of the dataframe\n",
    "df_mh.head()"
   ]
  },
  {
   "cell_type": "code",
   "execution_count": 187,
   "metadata": {
    "scrolled": true
   },
   "outputs": [
    {
     "name": "stdout",
     "output_type": "stream",
     "text": [
      "<class 'pandas.core.frame.DataFrame'>\n",
      "RangeIndex: 25 entries, 0 to 24\n",
      "Data columns (total 5 columns):\n",
      " #   Column       Non-Null Count  Dtype\n",
      "---  ------       --------------  -----\n",
      " 0   Participant  25 non-null     int64\n",
      " 1   Abil         25 non-null     int64\n",
      " 2   IQ           25 non-null     int64\n",
      " 3   Home         25 non-null     int64\n",
      " 4   TV           25 non-null     int64\n",
      "dtypes: int64(5)\n",
      "memory usage: 1.1 KB\n"
     ]
    }
   ],
   "source": [
    "# Check data types and information\n",
    "df_mh.info()"
   ]
  },
  {
   "cell_type": "code",
   "execution_count": 188,
   "metadata": {
    "id": "Edd9mYgi2Jar"
   },
   "outputs": [
    {
     "name": "stdout",
     "output_type": "stream",
     "text": [
      "Participant    0\n",
      "Abil           0\n",
      "IQ             0\n",
      "Home           0\n",
      "TV             0\n",
      "dtype: int64\n"
     ]
    }
   ],
   "source": [
    "# Q1b (code):\n",
    "# Check for missing values\n",
    "missing_values = df_mh.isnull().sum() ## Source: https://www.geeksforgeeks.org/working-with-missing-data-in-pandas/\n",
    "print(missing_values)"
   ]
  },
  {
   "cell_type": "code",
   "execution_count": 189,
   "metadata": {
    "scrolled": true
   },
   "outputs": [
    {
     "name": "stdout",
     "output_type": "stream",
     "text": [
      "    Participant  Abil   IQ  Home   TV\n",
      "0             1    61  107   144  487\n",
      "1             2    56  109   123  608\n",
      "2             3    45   81   108  640\n",
      "3             4    66  100   155  493\n",
      "4             5    49   92   103  636\n",
      "5             6    62  105   161  407\n",
      "6             7    61   92   138  463\n",
      "7             8    55  101   119  717\n",
      "8             9    62  118   155  643\n",
      "9            10    61   99   121  674\n",
      "10           11    51  104    93  675\n",
      "11           12    48  100   127  595\n",
      "12           13    50   95    97  673\n",
      "13           14    50   82   140  523\n",
      "14           15    67  114   151  665\n",
      "15           16    51   95   112  663\n",
      "16           17    55   94   102  684\n",
      "17           18    54  103   142  505\n",
      "18           19    57   96   127  541\n",
      "19           20    54  104   102  678\n",
      "20           21    52   98   124  564\n",
      "21           22    48  117    87  787\n",
      "22           23    61  100   141  582\n",
      "23           24    54  101   117  647\n",
      "24           25    48   94   111  448\n"
     ]
    }
   ],
   "source": [
    "# Check whether there is a data point for each participant on both variables\n",
    "## Remove rows from Dataframe that have at least one missing value in the 'Abil' and 'IQ' columns\n",
    "participants_data = df_mh.dropna(subset=['Abil', 'IQ'])\n",
    "print(participants_data)"
   ]
  },
  {
   "cell_type": "code",
   "execution_count": 190,
   "metadata": {
    "id": "3ALe0fjr2K5h",
    "scrolled": true
   },
   "outputs": [
    {
     "data": {
      "image/png": "[encoded data removed]",
      "text/plain": [
       "<Figure size 800x400 with 2 Axes>"
      ]
     },
     "metadata": {},
     "output_type": "display_data"
    }
   ],
   "source": [
    "# Q1c (code):\n",
    "# Check data distribution Source: https://www.youtube.com/watch?v=IW1BMGtz6UY\n",
    "plt.figure(figsize=(8, 4))\n",
    "plt.subplot(1, 2, 1)\n",
    "sns.histplot(df_mh['Abil'], kde=True)\n",
    "plt.title('Reading Ability Distribution')\n",
    "\n",
    "plt.subplot(1, 2, 2)\n",
    "sns.histplot(df_mh['IQ'], kde=True)\n",
    "plt.title('IQ Distribution')\n",
    "plt.show()"
   ]
  },
  {
   "cell_type": "code",
   "execution_count": 191,
   "metadata": {
    "id": "xaQ300fY2MPe"
   },
   "outputs": [
    {
     "data": {
      "image/png": "[encoded data removed]",
      "text/plain": [
       "<Figure size 600x300 with 1 Axes>"
      ]
     },
     "metadata": {},
     "output_type": "display_data"
    }
   ],
   "source": [
    "# Q1d (code):\n",
    "# Create scatter plot with matplotlib\n",
    "plt.figure(figsize=(6, 3))\n",
    "plt.scatter(df_mh['IQ'], df_mh['Abil'], alpha=0.5)\n",
    "\n",
    "plt.title('Scatter Plot')\n",
    "plt.xlabel('Reading Ability')\n",
    "plt.ylabel('IQ')\n",
    "\n",
    "plt.show()"
   ]
  },
  {
   "cell_type": "code",
   "execution_count": 192,
   "metadata": {
    "id": "Zpkwqc382N06"
   },
   "outputs": [
    {
     "data": {
      "image/png": "[encoded data removed]",
      "text/plain": [
       "<Figure size 600x300 with 1 Axes>"
      ]
     },
     "metadata": {},
     "output_type": "display_data"
    }
   ],
   "source": [
    "# Q1e (code):\n",
    "# Correlation line Source: https://www.geeksforgeeks.org/python-seaborn-regplot-method/\n",
    "plt.figure(figsize=(6, 3))\n",
    "sns.regplot(x='Abil', y='IQ', data=df_mh, scatter=True)\n",
    "plt.show()"
   ]
  },
  {
   "cell_type": "markdown",
   "metadata": {
    "id": "tKtW2diqZq1S"
   },
   "source": [
    "**Question 2**:\n",
    "\n",
    "a. Which correlation coefficient test can we use, Pearson or Spearman? Briefly explian why based on the results of Question 1.\n",
    "\n",
    "b. Conduct a correlation coefficient test.\n",
    "\n",
    "c. Interpret the result (direction and strength of the association between the two varibles)"
   ]
  },
  {
   "cell_type": "markdown",
   "metadata": {
    "id": "t5GRVxHwaKIS"
   },
   "source": [
    "# Q2a (answer with words):\n",
    "We can use Spearman correlation coefficient. The relationship between the two variables is linear, that is, the change of one variable is proportional to the change of the other variable. However, there are some outliers in the scatter plot. "
   ]
  },
  {
   "cell_type": "code",
   "execution_count": 193,
   "metadata": {
    "id": "LTSp6xMFaKgf",
    "scrolled": true
   },
   "outputs": [
    {
     "name": "stdout",
     "output_type": "stream",
     "text": [
      "0.45116993876507605 0.02359260883361456\n"
     ]
    }
   ],
   "source": [
    "# Q2b (code):\n",
    "# Calculate the Pearson correlation coefficients for x and y and their p-values using the scipy.stats library\n",
    "pearson_corr, p_value = stats.pearsonr(x, y)\n",
    "print(pearson_corr, p_value)"
   ]
  },
  {
   "cell_type": "markdown",
   "metadata": {
    "id": "m_3aCSG7ylFJ"
   },
   "source": [
    "# Q2c (answer with words):\n",
    "The coefficient of 0.451 indicates that there is a moderately positive correlation between reading ability and IQ. The higher the reading ability, the higher the IQ scores tend to be. The p-value of about 0.024 represents that this correlation is statistically significant and unlikely to be a result arrived at by chance."
   ]
  },
  {
   "cell_type": "markdown",
   "metadata": {
    "id": "mogdaz8P27oU"
   },
   "source": [
    "## Task 2. Chi-square Test\n",
    "We will continue to use the data example from Task 1.\n",
    "\n",
    "We want to explore whether there are significant differences in the amount of time spent reading at home per week (Home) among people with different reading abilities (Reading Ability). Therefore, we will divide the reading ability of all participants into two groups. The first group is those with low reading ability (Reading Ability at or below the rounded average), and the second group is those with high reading ability (Reading Ability above the rounded average). We will store this grouping in a new column named \"Rank_Abil\".\n",
    "\n",
    "\n",
    "Similarly, the reading time is divided into two different scenarios: the first scenario is infrequent reading (Home at or below the rounded average), and the other is frequent reading (Reading Ability above the rounded average). We will store this grouping in a new column named \"Rank_Home\".\n",
    "\n",
    "\n",
    "Then, construct a Contingency Matrix and perform a Chi-square test.\n",
    "\n",
    "**Question 3**:\n",
    "\n",
    "a. Please state the null hypothesis (H0) and alternative hypothesis (H1) for this Chi-square test.\n",
    "\n",
    "b. Based on the task description, add new columns “Rank_Abil” and \"Rank_Home\" to the dataframe df_mh.\n",
    "\n",
    "c. Construct a Contingency Matrix.\n",
    "\n",
    "d. Perform a Chi-square test.\n",
    "\n",
    "e. Interpret the results of the Chi-square test (answer in text)."
   ]
  },
  {
   "cell_type": "markdown",
   "metadata": {
    "id": "tIKHfEwG-Pte"
   },
   "source": [
    "# Q3a (answer in words):\n",
    "# H0:\n",
    "There is no association between reading ability and the frequency of reading at home. The level of reading ability does not affect whether a person reads at home frequently or infrequently.\n",
    "# H1：\n",
    "There is an association between reading ability and the frequency of reading at home. The level of reading ability does affect whether an individual reads at home frequently or infrequently."
   ]
  },
  {
   "cell_type": "code",
   "execution_count": 194,
   "metadata": {
    "id": "nlO-hmq2-V2Z"
   },
   "outputs": [],
   "source": [
    "# Q3b (code):\n",
    "# Import necessary libraries\n",
    "import pandas as pd  ##used for data wrangling\n",
    "from scipy.stats import chi2_contingency ##used for the chi-square test"
   ]
  },
  {
   "cell_type": "code",
   "execution_count": 195,
   "metadata": {},
   "outputs": [
    {
     "name": "stdout",
     "output_type": "stream",
     "text": [
      "55\n",
      "124\n"
     ]
    }
   ],
   "source": [
    "# Define the rounded average for Reading Ability and Home \n",
    "## Source: https://www.geeksforgeeks.org/round-function-python/\n",
    "avg_reading_ability = round(df_mh['Abil'].mean())\n",
    "avg_home_reading_time = round(df_mh['Home'].mean())\n",
    "\n",
    "print(avg_reading_ability)\n",
    "print(avg_home_reading_time)"
   ]
  },
  {
   "cell_type": "code",
   "execution_count": 196,
   "metadata": {},
   "outputs": [
    {
     "name": "stdout",
     "output_type": "stream",
     "text": [
      "   Participant  Abil   IQ  Home   TV Rank_Abil   Rank_Home\n",
      "0            1    61  107   144  487      High    Frequent\n",
      "1            2    56  109   123  608      High  Infrequent\n",
      "2            3    45   81   108  640       Low  Infrequent\n",
      "3            4    66  100   155  493      High    Frequent\n",
      "4            5    49   92   103  636       Low  Infrequent\n"
     ]
    }
   ],
   "source": [
    "# Categorize reading ability into high and low\n",
    "## Source: https://pandas.pydata.org/pandas-docs/stable/reference/api/pandas.DataFrame.apply.html\n",
    "df_mh['Rank_Abil'] = df_mh['Abil'].apply(lambda x: 'High' if x > avg_reading_ability else 'Low')\n",
    "\n",
    "# Categorize home reading time into frequent and infrequent without numpy\n",
    "df_mh['Rank_Home'] = df_mh['Home'].apply(lambda x: 'Frequent' if x > avg_home_reading_time else 'Infrequent')\n",
    "\n",
    "print(df_mh.head())"
   ]
  },
  {
   "cell_type": "code",
   "execution_count": 197,
   "metadata": {
    "id": "jjtp4cm4-Y36"
   },
   "outputs": [],
   "source": [
    "# Q3c (code):\n",
    "# Construct Contingency Matrix\n",
    "contingency_matrix = pd.crosstab(df_mh['Rank_Abil'], df_mh['Rank_Home'])"
   ]
  },
  {
   "cell_type": "code",
   "execution_count": 198,
   "metadata": {
    "id": "gyDS8hq2-bmx"
   },
   "outputs": [
    {
     "name": "stdout",
     "output_type": "stream",
     "text": [
      "Chi-square Statistic: 6.500270562770561\n",
      "P-value: 0.010785807794066234\n",
      "Degrees of Freedom: 1\n",
      "Expected Frequencies: [[4.4 5.6]\n",
      " [6.6 8.4]]\n"
     ]
    }
   ],
   "source": [
    "# Q3d (code):\n",
    "# Perform the Chi-square test\n",
    "chi2_stat, p_val, dof, expected = chi2_contingency(contingency_matrix)\n",
    "print(\"Chi-square Statistic:\", chi2_stat)\n",
    "print(\"P-value:\", p_val)\n",
    "print(\"Degrees of Freedom:\", dof)\n",
    "print(\"Expected Frequencies:\", expected)"
   ]
  },
  {
   "cell_type": "markdown",
   "metadata": {
    "id": "fj0gW0pS-dN5"
   },
   "source": [
    "# Q3e (answer in words):\n",
    "The p-value of 0.010785807794066234 is less than 0.05, the level of significance. It means that there is a significant correlation between reading ability and frequency of reading at home. The two aspects re not independent and there is statistical evidence that reading ability affects the frequency of reading at home."
   ]
  },
  {
   "cell_type": "markdown",
   "metadata": {
    "id": "FgYRxqqpaUIk"
   },
   "source": [
    "## Task 3. Two-sample t-test\n",
    "As we discussed on Week 3, Two-sample designs are very useful when we want to know whether there is a difference between groups on a particular variable.\n",
    "\n",
    "In this assignment, you will be guided to replicate the Experiment 4 (p. 887-888) from the paper below, focusing on understanding the data through descriptive statistics, visualizing distributions, testing assumptions (normality and variance homogeneity), and finally performing the independent t-test.\n",
    "\n",
    "Schroeder, J. and Epley, N. (2015). The sound of intellect: Speech reveals a thoughtful mind, increasing a job candidate's appeal. Psychological Science, 26, 277--891.\n",
    "\n",
    "\n",
    "As we explained during Week 3 lecture, there are different types of two-sample designs depending on whether or not the two groups are independent (e.g., different participants in different conditions) or not (e.g., same participants in different conditions). In this course we focus on independent samples, which typically means that the observations in the two groups are unrelated - usually meaning different people. But in real practice you will need to go through similar procedures to determine which is the proper statistical test to use.\n",
    "\n",
    "\n",
    "\n",
    "\n",
    "### Background of data: Speech as indicator of intellect\n",
    "To recap on Experiment 4, 39 professional recruiters from Fortune 500 companies evaluated job pitches of M.B.A. candidates (Masters in Business Administration) from the University of Chicago Booth School of Business. The methods and results appear on pages 887--889 of the article if you want to look at them specifically for more details."
   ]
  },
  {
   "cell_type": "markdown",
   "metadata": {
    "id": "vIc57Glgn5Bb"
   },
   "source": [
    "###Step 1: Analyze the demographics of evaluators from the provided dataset\n",
    "\n",
    "**Instructions:**\n",
    "\n",
    "1. Load the necessary libraries (pandas, scipy, numpy, matplotlib.pyplot, seaborn) and explain why you need them (\"#used for ...\").\n",
    "\n",
    "2. Read the evaluators.csv file into a DataFrame.\n",
    "\n",
    "3. Calculate the mean and standard deviation of the age of the evaluators, handling missing values appropriately.\n",
    "\n",
    "4. Count how many male and female evaluators were in the study.\n",
    "\n",
    "**Question 4:**\n",
    "\n",
    "a. What was the mean age of the evaluators?\n",
    "What was the standard deviation of the age of the evaluators?\n",
    "\n",
    "b. How many participants were female and how many participants were male?\n"
   ]
  },
  {
   "cell_type": "code",
   "execution_count": 199,
   "metadata": {
    "id": "RgnTye-yojyH"
   },
   "outputs": [
    {
     "data": {
      "text/html": [
       "<div>\n",
       "<style scoped>\n",
       "    .dataframe tbody tr th:only-of-type {\n",
       "        vertical-align: middle;\n",
       "    }\n",
       "\n",
       "    .dataframe tbody tr th {\n",
       "        vertical-align: top;\n",
       "    }\n",
       "\n",
       "    .dataframe thead th {\n",
       "        text-align: right;\n",
       "    }\n",
       "</style>\n",
       "<table border=\"1\" class=\"dataframe\">\n",
       "  <thead>\n",
       "    <tr style=\"text-align: right;\">\n",
       "      <th></th>\n",
       "      <th>eval_id</th>\n",
       "      <th>condition</th>\n",
       "      <th>age</th>\n",
       "      <th>sex</th>\n",
       "    </tr>\n",
       "  </thead>\n",
       "  <tbody>\n",
       "    <tr>\n",
       "      <th>0</th>\n",
       "      <td>1</td>\n",
       "      <td>listened</td>\n",
       "      <td>29.0</td>\n",
       "      <td>2.0</td>\n",
       "    </tr>\n",
       "    <tr>\n",
       "      <th>1</th>\n",
       "      <td>2</td>\n",
       "      <td>listened</td>\n",
       "      <td>27.0</td>\n",
       "      <td>2.0</td>\n",
       "    </tr>\n",
       "    <tr>\n",
       "      <th>2</th>\n",
       "      <td>3</td>\n",
       "      <td>listened</td>\n",
       "      <td>27.0</td>\n",
       "      <td>2.0</td>\n",
       "    </tr>\n",
       "    <tr>\n",
       "      <th>3</th>\n",
       "      <td>4</td>\n",
       "      <td>read</td>\n",
       "      <td>40.0</td>\n",
       "      <td>2.0</td>\n",
       "    </tr>\n",
       "    <tr>\n",
       "      <th>4</th>\n",
       "      <td>5</td>\n",
       "      <td>read</td>\n",
       "      <td>32.0</td>\n",
       "      <td>2.0</td>\n",
       "    </tr>\n",
       "  </tbody>\n",
       "</table>\n",
       "</div>"
      ],
      "text/plain": [
       "   eval_id condition   age  sex\n",
       "0        1  listened  29.0  2.0\n",
       "1        2  listened  27.0  2.0\n",
       "2        3  listened  27.0  2.0\n",
       "3        4      read  40.0  2.0\n",
       "4        5      read  32.0  2.0"
      ]
     },
     "execution_count": 199,
     "metadata": {},
     "output_type": "execute_result"
    }
   ],
   "source": [
    "import pandas as pd # used for data wrangling\n",
    "from scipy import stats # used for statistical analysis\n",
    "import numpy as np # used for numerical calculation\n",
    "import matplotlib.pyplot as plt # used for data visualization\n",
    "import seaborn as sns # used for visualization\n",
    "\n",
    "# Load the data\n",
    "df_evaluators = pd.read_csv(r'C:\\Users\\ASUS\\Desktop\\A1_analysing_data\\data for A1\\evaluators.csv')\n",
    "df_evaluators.head()"
   ]
  },
  {
   "cell_type": "code",
   "execution_count": 200,
   "metadata": {
    "id": "eDw0XnX3BRhe"
   },
   "outputs": [
    {
     "name": "stdout",
     "output_type": "stream",
     "text": [
      "30.852941176470587\n",
      "6.238358141327351\n"
     ]
    }
   ],
   "source": [
    "# Q4a (code):\n",
    "# Calculate mean and standard deviation for age\n",
    "mean_age = df_evaluators['age'].mean()\n",
    "print(mean_age)\n",
    "\n",
    "std_age = df_evaluators['age'].std()\n",
    "print(std_age)"
   ]
  },
  {
   "cell_type": "code",
   "execution_count": 201,
   "metadata": {
    "id": "I0tU57R5ufRI"
   },
   "outputs": [
    {
     "name": "stdout",
     "output_type": "stream",
     "text": [
      "Female    30\n",
      "Male       4\n",
      "Name: sex, dtype: int64\n"
     ]
    }
   ],
   "source": [
    "# Q4b (code)\n",
    "# Count male and female evaluators\n",
    "# In the 'sex' column: 1 represents males and 2 represents females\n",
    "## Use the value_counts() function to count the number of sexes\n",
    "sex_counts = df_evaluators['sex'].value_counts()\n",
    "sex_counts.index = ['Male' if x == 1 else 'Female' for x in sex_counts.index]\n",
    "print(sex_counts)"
   ]
  },
  {
   "cell_type": "markdown",
   "metadata": {
    "id": "KK-MdZfdpDI3"
   },
   "source": [
    "###Step 2: Calculate overall intellect ratings from evaluators and prepare a combined dataset for analysis\n",
    "\n",
    "We are now going to calculate an overall intellect rating given by each evaluator. To break that down a bit, we are going to calculate how intellectual the evaluators (the raters) thought candidates were overall, depending on whether the evaluators read or listened to the candidates' resume pitches. This is calculated by averaging the ratings of competent, thoughtful and intelligent for each evaluator held within ratings.csv.\n",
    "\n",
    "Note: We are not looking at ratings to individual candidates; we are looking at overall ratings for each evaluator. This is a bit confusing but makes sense if you stop to think about it a little. You can think about it in terms of \"do raters rate differently depending on whether they read or listen to a resume pitch\".\n",
    "We will then combine the overall intellect rating with the overall impression ratings and overall hire ratings for each evaluator, all ready found in ratings.csv. In the end we will have a new new dataframe named \"ratings2\" - which has the below structure:\n",
    "\n",
    "**eval_id** shows the evaluator ID. Each evaluator has a different ID. So all the 1's are the same evaluator.\n",
    "\n",
    "**Category** shows the scale that they were rating on - intellect, hire, impression\n",
    "\n",
    "**Rating** shows the overall rating given by that evaluator on a given scale.\n",
    "\n",
    "**condition** shows whether that evaluator listened to (e.g., evaluators 1, 2 and 3), or read (e.g., evaluator 4) the resume.\n",
    "\n",
    "\n",
    "**Instructions:**\n",
    "\n",
    "1. Load the ratings.csv file.\n",
    "\n",
    "2. Filter and calculate the mean intellect rating for each evaluator.\n",
    "\n",
    "3. Combine this with overall impression and hire ratings to create a new DataFrame named \"rating2\".\n",
    "\n",
    "4. Merge this DataFrame with the evaluator demographics.\n",
    "\n",
    "**Question 5**:\n",
    "\n",
    "Print the head of \"rating2\".\n"
   ]
  },
  {
   "cell_type": "code",
   "execution_count": 202,
   "metadata": {
    "id": "l85NzSC-pj57"
   },
   "outputs": [
    {
     "data": {
      "text/html": [
       "<div>\n",
       "<style scoped>\n",
       "    .dataframe tbody tr th:only-of-type {\n",
       "        vertical-align: middle;\n",
       "    }\n",
       "\n",
       "    .dataframe tbody tr th {\n",
       "        vertical-align: top;\n",
       "    }\n",
       "\n",
       "    .dataframe thead th {\n",
       "        text-align: right;\n",
       "    }\n",
       "</style>\n",
       "<table border=\"1\" class=\"dataframe\">\n",
       "  <thead>\n",
       "    <tr style=\"text-align: right;\">\n",
       "      <th></th>\n",
       "      <th>eval_id</th>\n",
       "      <th>Category</th>\n",
       "      <th>Rating</th>\n",
       "    </tr>\n",
       "  </thead>\n",
       "  <tbody>\n",
       "    <tr>\n",
       "      <th>0</th>\n",
       "      <td>1</td>\n",
       "      <td>competent</td>\n",
       "      <td>6.0</td>\n",
       "    </tr>\n",
       "    <tr>\n",
       "      <th>1</th>\n",
       "      <td>1</td>\n",
       "      <td>thoughtful</td>\n",
       "      <td>6.0</td>\n",
       "    </tr>\n",
       "    <tr>\n",
       "      <th>2</th>\n",
       "      <td>1</td>\n",
       "      <td>intelligent</td>\n",
       "      <td>6.0</td>\n",
       "    </tr>\n",
       "    <tr>\n",
       "      <th>3</th>\n",
       "      <td>1</td>\n",
       "      <td>impression</td>\n",
       "      <td>7.0</td>\n",
       "    </tr>\n",
       "    <tr>\n",
       "      <th>4</th>\n",
       "      <td>1</td>\n",
       "      <td>hire</td>\n",
       "      <td>6.0</td>\n",
       "    </tr>\n",
       "  </tbody>\n",
       "</table>\n",
       "</div>"
      ],
      "text/plain": [
       "   eval_id     Category  Rating\n",
       "0        1    competent     6.0\n",
       "1        1   thoughtful     6.0\n",
       "2        1  intelligent     6.0\n",
       "3        1   impression     7.0\n",
       "4        1         hire     6.0"
      ]
     },
     "execution_count": 202,
     "metadata": {},
     "output_type": "execute_result"
    }
   ],
   "source": [
    "# Load ratings data\n",
    "df_ratings = pd.read_csv(r'C:\\Users\\ASUS\\Desktop\\A1_analysing_data\\data for A1\\ratings.csv')\n",
    "df_ratings.head()"
   ]
  },
  {
   "cell_type": "code",
   "execution_count": 203,
   "metadata": {
    "id": "5dxtVUSMBZwf"
   },
   "outputs": [
    {
     "name": "stdout",
     "output_type": "stream",
     "text": [
      "   eval_id     Category  Rating\n",
      "0        1    competent     6.0\n",
      "1        1   thoughtful     6.0\n",
      "2        1  intelligent     6.0\n",
      "5        2    competent     5.0\n",
      "6        2   thoughtful     7.0\n"
     ]
    }
   ],
   "source": [
    "# Q5 (code):\n",
    "# Filter the ratings DataFrame to include only 'thoughtful', 'competent', and 'intelligent' categories\n",
    "intellect_categories = ['thoughtful', 'competent', 'intelligent']\n",
    "df_intellect = df_ratings[df_ratings['Category'].isin(intellect_categories)]\n",
    "print(df_intellect.head())"
   ]
  },
  {
   "cell_type": "code",
   "execution_count": 204,
   "metadata": {},
   "outputs": [
    {
     "name": "stdout",
     "output_type": "stream",
     "text": [
      "   eval_id  Mean_Intellect_Rating   Category\n",
      "0        1               6.000000  intellect\n",
      "1        2               5.666667  intellect\n",
      "2        3               6.000000  intellect\n",
      "3        4               3.333333  intellect\n",
      "4        5               1.000000  intellect\n"
     ]
    }
   ],
   "source": [
    "# Calculate the mean intellect rating for each evaluator\n",
    "overall_mean_rating = df_intellect['Rating'].mean()\n",
    "\n",
    "# Rename the columns\n",
    "mean_intellect_ratings.rename(columns={'Rating': 'Mean_Intellect_Rating'}, inplace=True)\n",
    "print(mean_intellect_ratings.head())"
   ]
  },
  {
   "cell_type": "code",
   "execution_count": 205,
   "metadata": {},
   "outputs": [
    {
     "name": "stdout",
     "output_type": "stream",
     "text": [
      "   eval_id    Rating\n",
      "0        1  6.200000\n",
      "1        2  5.133333\n",
      "2        3  6.266667\n",
      "3        4  3.733333\n",
      "4        5  1.066667\n"
     ]
    }
   ],
   "source": [
    "# Group by 'eval_id' and calculate mean, then reset the index to convert groupby object back to DataFrame\n",
    "mean_intellect_ratings = df_intellect.groupby('eval_id')['Rating'].mean().reset_index()\n",
    "print(mean_ratings.head())"
   ]
  },
  {
   "cell_type": "code",
   "execution_count": 206,
   "metadata": {},
   "outputs": [
    {
     "name": "stdout",
     "output_type": "stream",
     "text": [
      "   eval_id    Rating   Category\n",
      "0        1  6.000000  intellect\n",
      "1        2  5.666667  intellect\n",
      "2        3  6.000000  intellect\n",
      "3        4  3.333333  intellect\n",
      "4        5  1.000000  intellect\n"
     ]
    }
   ],
   "source": [
    "# Add a 'Category' column with the value 'intellect' for these rows\n",
    "mean_intellect_ratings['Category'] = 'intellect'\n",
    "print(mean_intellect_ratings.head())"
   ]
  },
  {
   "cell_type": "code",
   "execution_count": 207,
   "metadata": {},
   "outputs": [],
   "source": [
    "# Create a DataFrame for 'impression' and 'hire' ratings\n",
    "impression_hire_ratings = df_ratings[df_ratings['Category'].isin(['impression', 'hire'])]"
   ]
  },
  {
   "cell_type": "code",
   "execution_count": 208,
   "metadata": {},
   "outputs": [
    {
     "name": "stdout",
     "output_type": "stream",
     "text": [
      "   eval_id    Rating   Category\n",
      "0        1  6.000000  intellect\n",
      "1        2  5.666667  intellect\n",
      "2        3  6.000000  intellect\n",
      "3        4  3.333333  intellect\n",
      "4        5  1.000000  intellect\n"
     ]
    }
   ],
   "source": [
    "# Combine the DataFrames to create 'ratings2'\n",
    "combined_ratings = pd.concat([mean_intellect_ratings, impression_hire_ratings], ignore_index=True)\n",
    "print(combined_ratings.head())"
   ]
  },
  {
   "cell_type": "code",
   "execution_count": 209,
   "metadata": {},
   "outputs": [
    {
     "name": "stdout",
     "output_type": "stream",
     "text": [
      "   eval_id    Rating   Category condition   age  sex\n",
      "0        1  6.000000  intellect  listened  29.0  2.0\n",
      "1        2  5.666667  intellect  listened  27.0  2.0\n",
      "2        3  6.000000  intellect  listened  27.0  2.0\n",
      "3        4  3.333333  intellect      read  40.0  2.0\n",
      "4        5  1.000000  intellect      read  32.0  2.0\n"
     ]
    }
   ],
   "source": [
    "# Join 'ratings2' with the 'df_evaluators' DataFrame to add the 'condition' column\n",
    "combined_df = pd.merge(ratings2, df_evaluators, on='eval_id', how='left')\n",
    "print(combined_df.head())"
   ]
  },
  {
   "cell_type": "code",
   "execution_count": 210,
   "metadata": {
    "scrolled": true
   },
   "outputs": [
    {
     "name": "stdout",
     "output_type": "stream",
     "text": [
      "   eval_id   Category    Rating condition\n",
      "0        1  intellect  6.000000  listened\n",
      "1        2  intellect  5.666667  listened\n",
      "2        3  intellect  6.000000  listened\n",
      "3        4  intellect  3.333333      read\n",
      "4        5  intellect  1.000000      read\n"
     ]
    }
   ],
   "source": [
    "# Select only the necessary columns as per the structure required\n",
    "final_df = combined_df[['eval_id', 'Category', 'Rating', 'condition']]\n",
    "\n",
    "print(final_df.head())"
   ]
  },
  {
   "cell_type": "code",
   "execution_count": 211,
   "metadata": {},
   "outputs": [],
   "source": [
    "# Assuming df_evaluators contains 'eval_id' and 'condition' columns\n",
    "# Ensure the merge operation is correctly specified\n",
    "ratings2_with_condition = ratings2.merge(df_evaluators[['eval_id', 'condition']], on='eval_id', how='left')"
   ]
  },
  {
   "cell_type": "code",
   "execution_count": 212,
   "metadata": {},
   "outputs": [
    {
     "name": "stdout",
     "output_type": "stream",
     "text": [
      "    eval_id    Category    Rating condition\n",
      "40        1        hire  6.000000  listened\n",
      "39        1  impression  7.000000  listened\n",
      "0         1   intellect  6.000000  listened\n",
      "42        2        hire  4.000000  listened\n",
      "41        2  impression  4.666667  listened\n"
     ]
    }
   ],
   "source": [
    "# Arrange by 'eval_id' and 'Category'\n",
    "ratings2_df = final_df.sort_values(by=['eval_id', 'Category'])\n",
    "\n",
    "# Display the first few rows of the final 'ratings2' DataFrame to verify\n",
    "print(ratings2_df.head())"
   ]
  },
  {
   "cell_type": "markdown",
   "metadata": {
    "id": "fOmtKCzEpoOa"
   },
   "source": [
    "###Step 3: Perform descriptive and inferential statistical analyses, including testing assumptions and conducting independent t-tests.\n",
    "\n",
    "We are going to run the t-tests for Intellect, Hire and Impression; each time comparing evaluators overall ratings for the listened group versus overall ratings for the read group to see if there was a significant difference between the two conditions: i.e., did the evaluators who listened to pitches give a significant higher or lower rating than evaluators that read pitches?\n",
    "\n",
    "**Question 6**:\n",
    "\n",
    "a. In terms of hypotheses, how can we phrase the hypothesis?\n",
    "\n",
    "b. Which t-test should we choose, one-tail or two-tail? And explian why.\n",
    "\n",
    "c. What are the independent variable and the dependent variable here?\n",
    "\n"
   ]
  },
  {
   "cell_type": "markdown",
   "metadata": {
    "id": "duti45rG22eS"
   },
   "source": [
    "# Q6a (answer in words):\n",
    "# Null hypothesis:\n",
    "There is no significant difference in overall ratings between those who listened to the speech and those who read it. This means that the way of presentation does not affect the evaluators' ratings.\n",
    "# Alternative hypothesis:\n",
    "There is significant difference in overall ratings between the evaluators who listened to the speech and those who read it. This means that the way of presentation does affect the evaluators' ratings.\n",
    "\n",
    "we could phrase the null hypothesis for these tests as there is no significant difference between overall ratings on the {insert trait} scale between evaluators who listened to resume pitches and evaluators who read the resume pitches (H0:μ1=μ2). Alternatively, we could state it as there will be a significant difference between overall ratings on the {insert trait} scale between evaluators who listened to resume pitches and evaluators who read the resume pitches (H1:μ1≠μ2)."
   ]
  },
  {
   "cell_type": "markdown",
   "metadata": {
    "id": "EkoM_0js3fyS"
   },
   "source": [
    "# Q6b (answer in words):\n",
    "# Which t-test should we choose, one-tail or two-tail? Explian why.\n",
    "\n",
    "Two-tailed t-test is used because the research hypothesis does not specify directionality.That is, it aims to detect any significant differences in evaluators' ratings between the listening and reading without presupposing the specific direction of such differences. Two-tailed t-test allows for detecting significant differences in any direction and is more appropriate for exploratory analytical purposes."
   ]
  },
  {
   "cell_type": "markdown",
   "metadata": {
    "id": "073zOlIsI5ws"
   },
   "source": [
    "# Q6c (answer in words):\n",
    "# What are the independent variable and the dependent variable here?\n",
    "Independent Variable: the condition under which the evaluators receive the pitches: listening and reading.\n",
    "\n",
    "Dependent Variable: the overall ratings given by the evaluators, including ratings for intellect, hire, and impression."
   ]
  },
  {
   "cell_type": "markdown",
   "metadata": {
    "id": "4g-SpuDX23iL"
   },
   "source": [
    "\n",
    "To clarify, we are going to run three between-subjects t-tests in total; one for intellect ratings; one for hire ratings; one for impression ratings.\n",
    "\n",
    "**Instructions:**\n",
    "\n",
    "1. Descriptive analysis of the ratings.\n",
    "\n",
    "2. Test for normal distribution (Shapiro-Wilk test) and homogeneity of variances (Levene's test) for the intellect, impression, and hire ratings.\n",
    "\n",
    "3. Conduct independent t-tests comparing intellect, impression, and hire ratings between conditions (listened vs. read).\n",
    "\n",
    "Hints: three T-tests need to be performed.\n",
    "\n",
    "**Question 7**:\n",
    "\n",
    "a: Print the test results.\n",
    "\n",
    "b: Interpret the results of the above descriptive statistics, Shapiro-Wilk test, Levene's test, and independent t-tests. Explian why we use these tests and how we made our decisions based on the test result."
   ]
  },
  {
   "cell_type": "code",
   "execution_count": 213,
   "metadata": {
    "id": "QD3ZZRrAq4Gc"
   },
   "outputs": [],
   "source": [
    "##Q7a (code):\n",
    "from scipy.stats import shapiro, levene, ttest_ind # used for data analysis"
   ]
  },
  {
   "cell_type": "code",
   "execution_count": 214,
   "metadata": {},
   "outputs": [
    {
     "name": "stdout",
     "output_type": "stream",
     "text": [
      "Index(['eval_id', 'Category', 'Rating'], dtype='object')\n"
     ]
    }
   ],
   "source": [
    "print(df_ratings.columns)"
   ]
  },
  {
   "cell_type": "code",
   "execution_count": 215,
   "metadata": {},
   "outputs": [
    {
     "name": "stdout",
     "output_type": "stream",
     "text": [
      "            count      mean       std       min       25%       50%  75%  \\\n",
      "Category                                                                   \n",
      "hire         39.0  3.871795  2.330343  0.000000  2.000000  4.000000  5.0   \n",
      "impression   39.0  5.094017  2.254234  0.333333  3.666667  5.333333  7.0   \n",
      "intellect    39.0  4.717949  2.000787  0.666667  3.500000  5.000000  6.0   \n",
      "\n",
      "                 max  \n",
      "Category              \n",
      "hire        8.000000  \n",
      "impression  8.666667  \n",
      "intellect   9.000000  \n"
     ]
    }
   ],
   "source": [
    "ratings_desc = ratings2_df.groupby('Category')['Rating'].describe()\n",
    "print(ratings_desc)"
   ]
  },
  {
   "cell_type": "code",
   "execution_count": 216,
   "metadata": {},
   "outputs": [
    {
     "name": "stdout",
     "output_type": "stream",
     "text": [
      "{'hire': 0.04710369557142258, 'impression': 0.17238670587539673, 'intellect': 0.5182666182518005}\n"
     ]
    }
   ],
   "source": [
    "# Test for normal distribution (Shapiro-Wilk test)\n",
    "\n",
    "shapiro_results = {}\n",
    "\n",
    "for category in ratings2_df['Category'].unique():\n",
    "    category_ratings = ratings2_df[ratings2_df['Category'] == category]['Rating']\n",
    "    if len(category_ratings) >= 3:\n",
    "        score_shapiro, p_val_shapiro = shapiro(category_ratings)\n",
    "        shapiro_results[category] = p_val_shapiro\n",
    "    else:\n",
    "        shapiro_results[category] = 'Not enough data points'\n",
    "\n",
    "print(shapiro_results)"
   ]
  },
  {
   "cell_type": "code",
   "execution_count": 217,
   "metadata": {},
   "outputs": [
    {
     "name": "stdout",
     "output_type": "stream",
     "text": [
      "{'hire': 0.7458453933447955, 'impression': 0.5358960150374064, 'intellect': 0.34946205893248505}\n"
     ]
    }
   ],
   "source": [
    "# Test for homogeneity of variances (Levene's test)\n",
    "\n",
    "levene_results = {}\n",
    "\n",
    "for category in ratings2_df['Category'].unique():\n",
    "    listened_ratings = ratings2_df[(ratings2_df['Category'] == category) & (ratings2_df['condition'] == 'listened')]['Rating']\n",
    "    read_ratings = ratings2_df[(ratings2_df['Category'] == category) & (ratings2_df['condition'] == 'read')]['Rating']\n",
    "    \n",
    "    score_levene, p_val_levene = levene(listened_ratings, read_ratings)\n",
    "    levene_results[category] = p_val_levene\n",
    "\n",
    "print(levene_results)"
   ]
  },
  {
   "cell_type": "code",
   "execution_count": 218,
   "metadata": {
    "scrolled": true
   },
   "outputs": [
    {
     "name": "stdout",
     "output_type": "stream",
     "text": [
      "Category: hire\n",
      "  t-statistic: 2.620100218173143, p-value: 0.012674511839824125\n",
      "\n",
      "Category: impression\n",
      "  t-statistic: 2.850766179025179, p-value: 0.007091060616710596\n",
      "\n",
      "Category: intellect\n",
      "  t-statistic: 3.5259329220482414, p-value: 0.0011444414996286821\n",
      "\n"
     ]
    }
   ],
   "source": [
    "# Independent t-tests\n",
    "ttest_results = {}\n",
    "\n",
    "for category in ratings2_df['Category'].unique():\n",
    "    listened_ratings = ratings2_df[(ratings2_df['Category'] == category) & (ratings2_df['condition'] == 'listened')]['Rating']\n",
    "    read_ratings = ratings2_df[(ratings2_df['Category'] == category) & (ratings2_df['condition'] == 'read')]['Rating']\n",
    "    \n",
    "    t_stat, p_val = ttest_ind(listened_ratings, read_ratings, equal_var=True)  # 假设方差相等\n",
    "    ttest_results[category] = {'t_stat': t_stat, 'p_val': p_val}\n",
    "\n",
    "for category, results in ttest_results.items():\n",
    "    print(f\"Category: {category}\\n  t-statistic: {results['t_stat']}, p-value: {results['p_val']}\\n\")"
   ]
  },
  {
   "cell_type": "markdown",
   "metadata": {
    "id": "aifm_T8UQwYm"
   },
   "source": [
    "Shapiro-Wilk Test:\n",
    "--------------------------------\n",
    "- hire: \n",
    "  - P-value (0.0471) is sighltly less than 0.05, suggesting a statistically significant deviation from normal distribution for hire ratings.\n",
    "- impression: \n",
    "  - P-value (0.1724) is greater than 0.05, indicating the distribution of impression ratings does not significantly deviate from normality.\n",
    "- intellect: \n",
    "  - P-value (0.5183) is ignificantly greater than 0.05, indicating no significant deviation from normal distribution for intellect ratings, meeting the assumption of normality.\n",
    "\n",
    "Levene's Test:\n",
    "----------------------------\n",
    "- All p-values are greater than 0.05, indicating no significant difference in variances between the different conditions.\n",
    "\n",
    "Independent t-test:\n",
    "-------------------------------------------------\n",
    "- hire: \n",
    "  - T-statistic is 2.6201 and p-value is 0.0127, indicating a statistically significant difference in hire ratings between the two conditions (listening vs. reading).\n",
    "- impression: \n",
    "  - T-statistic is 2.8508 and p-value is 0.0071, indicating a significant difference in impression ratings between conditions.\n",
    "- intellect: \n",
    "  - T-statistic is 3.5259 and p-value is 0.0011, indicating a very significant difference in intellect ratings between conditions.\n",
    "\n",
    "Reason\n",
    "----------------------------------------------------------------\n",
    "- Shapiro-Wilk Test is used to assess if data meets the normality assumption. Non-normal data may necessitate non-parametric methods or data transformation.\n",
    "- Levene's Test is used to check homogeneity of variances. Equal variances allow standard t-tests, and unequal variances require adjustments or alternative tests.\n",
    "- Independent Samples t-test is used to compare mean differences between two independent groups. It effectively determines if differences are statistically significant.\n",
    "\n",
    "Conclusion\n",
    "------------\n",
    "- Significant p-values in t-tests for hire and impression ratings indicate significant differences between conditions, despite hire ratings' marginal normality assumption failure.\n",
    "- For intellect ratings, both normality and homogeneity of variances assumptions are met."
   ]
  }
 ],
 "metadata": {
  "colab": {
   "provenance": []
  },
  "kernelspec": {
   "display_name": "Python 3 (ipykernel)",
   "language": "python",
   "name": "python3"
  },
  "language_info": {
   "codemirror_mode": {
    "name": "ipython",
    "version": 3
   },
   "file_extension": ".py",
   "mimetype": "text/x-python",
   "name": "python",
   "nbconvert_exporter": "python",
   "pygments_lexer": "ipython3",
   "version": "3.11.4"
  }
 },
 "nbformat": 4,
 "nbformat_minor": 1
}
